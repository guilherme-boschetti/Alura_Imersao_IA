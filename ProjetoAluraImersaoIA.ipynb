{
  "nbformat": 4,
  "nbformat_minor": 0,
  "metadata": {
    "colab": {
      "provenance": [],
      "authorship_tag": "ABX9TyM97mOUqILZ0bJWrH3z7Z8B",
      "include_colab_link": true
    },
    "kernelspec": {
      "name": "python3",
      "display_name": "Python 3"
    },
    "language_info": {
      "name": "python"
    }
  },
  "cells": [
    {
      "cell_type": "markdown",
      "metadata": {
        "id": "view-in-github",
        "colab_type": "text"
      },
      "source": [
        "<a href=\"https://colab.research.google.com/github/guilherme-boschetti/Alura_Imersao_IA/blob/main/ProjetoAluraImersaoIA.ipynb\" target=\"_parent\"><img src=\"https://colab.research.google.com/assets/colab-badge.svg\" alt=\"Open In Colab\"/></a>"
      ]
    },
    {
      "cell_type": "code",
      "execution_count": 1,
      "metadata": {
        "id": "gXws0-KzGKrr"
      },
      "outputs": [],
      "source": [
        "!pip install -q -U google-generativeai"
      ]
    },
    {
      "cell_type": "code",
      "source": [
        "import google.generativeai as genai\n",
        "\n",
        "GOOGLE_API_KEY = \"SECRET_KEY\"\n",
        "genai.configure(api_key=GOOGLE_API_KEY)\n",
        "\n",
        "generation_config = {\n",
        "  \"temperature\": 0,\n",
        "  \"top_p\": 1,\n",
        "  \"top_k\": 0,\n",
        "  \"max_output_tokens\": 10000,\n",
        "}\n",
        "\n",
        "safety_settings = {\n",
        "    \"HARASSMENT\": \"BLOCK_ONLY_HIGH\",\n",
        "    \"HATE\": \"BLOCK_ONLY_HIGH\",\n",
        "    \"SEXUAL\": \"BLOCK_ONLY_HIGH\",\n",
        "    \"DANGEROUS\": \"BLOCK_ONLY_HIGH\"\n",
        "}\n",
        "\n",
        "\n",
        "model = genai.GenerativeModel(model_name=\"gemini-1.5-pro-latest\",\n",
        "                              generation_config=generation_config,\n",
        "                              safety_settings=safety_settings)\n",
        "\n",
        "chat = model.start_chat(history=[])\n",
        "\n",
        "print(\"Olá!\")\n",
        "print(\"Quer doar, mas não sabe onde?\")\n",
        "print(\"Informe seu endereço para descobrir os lugares que estão recebendo doações mais próximos de você!\")\n",
        "\n",
        "prompt = input(\"\\n\\nInforme seu endereço ou digite sair para sair:\")\n",
        "\n",
        "while prompt != \"sair\":\n",
        "  response = chat.send_message(\"Quais são as ONGs e seus respectivos endereços que estão recebendo doações mais próximos deste endereço: \\'\" + prompt + \"\\' ?\")\n",
        "  print(\"\\n\\n\" + response.text)\n",
        "  prompt = input(\"\\n\\nInforme seu endereço ou digite sair para sair:\")\n"
      ],
      "metadata": {
        "colab": {
          "base_uri": "https://localhost:8080/",
          "height": 818
        },
        "id": "rkBfeGrTHdjh",
        "outputId": "c4bf9ea3-8ef9-4e85-be7a-54f916cc6880"
      },
      "execution_count": 6,
      "outputs": [
        {
          "name": "stdout",
          "output_type": "stream",
          "text": [
            "Olá!\n",
            "Quer doar, mas não sabe onde?\n",
            "Informe seu endereço para descobrir os lugares que estão recebendo doações mais próximos de você!\n",
            "\n",
            "\n",
            "Informe seu endereço ou digite sair para sair:CEP: 95010000, Logradouro: Avenida Júlio de Castilhos, Complemento: até 1574 - lado par, Bairro: Centro, Município: Caxias do Sul, UF: RS\n",
            "\n",
            "\n",
            "## ONGs Próximas a Avenida Júlio de Castilhos, Caxias do Sul:\n",
            "\n",
            "Infelizmente, não tenho acesso a um banco de dados em tempo real com informações sobre todas as ONGs e seus endereços. No entanto, posso te ajudar a encontrar algumas opções próximas ao endereço fornecido utilizando algumas ferramentas online:\n",
            "\n",
            "**1. Plataformas de Busca:**\n",
            "\n",
            "* **Google Maps:** Pesquise por \"ONGs\" ou \"organizações sem fins lucrativos\" no Google Maps. A ferramenta mostrará as ONGs próximas ao endereço que você inseriu, com informações de contato e avaliações de usuários.\n",
            "* **Guias locais:** Sites como GuiaMais e TeleListas podem ter listagens de ONGs na região de Caxias do Sul.\n",
            "\n",
            "**2. Sites de ONGs:**\n",
            "\n",
            "* **Sites de ONGs nacionais:** Algumas ONGs nacionais possuem filiais ou projetos em diferentes cidades. Pesquise pelos sites de ONGs como:\n",
            "    * **Cruz Vermelha Brasileira:** https://www.cruzvermelha.org.br/\n",
            "    * **Médicos Sem Fronteiras:** https://www.msf.org.br/\n",
            "    * **ChildFund Brasil:** https://www.childfundbrasil.org.br/\n",
            "    * **WWF-Brasil:** https://www.wwf.org.br/\n",
            "* **Sites de ONGs locais:** Pesquise por ONGs específicas da região de Caxias do Sul, como:\n",
            "    * **Fundação Caxias:** https://www.fundacaocaxias.org.br/\n",
            "    * **Associação Criança Feliz:** (Tente encontrar o site oficial através de uma busca online)\n",
            "    * **Banco de Alimentos de Caxias do Sul:** (Tente encontrar o site oficial através de uma busca online)\n",
            "\n",
            "**3. Redes Sociais:**\n",
            "\n",
            "* **Facebook:** Pesquise por grupos ou páginas de ONGs em Caxias do Sul.\n",
            "* **Instagram:** Utilize hashtags como #ongcaxiasdosul ou #voluntariadocaxiasdosul para encontrar ONGs locais.\n",
            "\n",
            "**Dicas:**\n",
            "\n",
            "* Ao entrar em contato com as ONGs, pergunte sobre as suas áreas de atuação e quais tipos de doações eles estão recebendo.\n",
            "* Verifique se a ONG possui registro e transparência em suas atividades.\n",
            "* Considere a possibilidade de se voluntariar além de fazer doações.\n",
            "\n",
            "**Lembre-se:** Esta lista não é exaustiva e existem muitas outras ONGs na região de Caxias do Sul. Com um pouco de pesquisa, você certamente encontrará uma organização que se alinha com seus valores e interesses.\n",
            "\n",
            "\n",
            "\n",
            "Informe seu endereço ou digite sair para sair:sair\n"
          ]
        }
      ]
    },
    {
      "cell_type": "code",
      "source": [],
      "metadata": {
        "id": "6MGJTn4SLrV2"
      },
      "execution_count": null,
      "outputs": []
    }
  ]
}