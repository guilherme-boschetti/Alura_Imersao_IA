{
  "nbformat": 4,
  "nbformat_minor": 0,
  "metadata": {
    "colab": {
      "provenance": [],
      "authorship_tag": "ABX9TyM97mOUqILZ0bJWrH3z7Z8B",
      "include_colab_link": true
    },
    "kernelspec": {
      "name": "python3",
      "display_name": "Python 3"
    },
    "language_info": {
      "name": "python"
    }
  },
  "cells": [
    {
      "cell_type": "markdown",
      "metadata": {
        "id": "view-in-github",
        "colab_type": "text"
      },
      "source": [
        "<a href=\"https://colab.research.google.com/github/guilherme-boschetti/Alura_Imersao_IA/blob/main/ProjetoAluraImersaoIA.ipynb\" target=\"_parent\"><img src=\"https://colab.research.google.com/assets/colab-badge.svg\" alt=\"Open In Colab\"/></a>"
      ]
    },
    {
      "cell_type": "code",
      "execution_count": 1,
      "metadata": {
        "id": "gXws0-KzGKrr"
      },
      "outputs": [],
      "source": [
        "!pip install -q -U google-generativeai"
      ]
    },
    {
      "cell_type": "code",
      "source": [
        "import google.generativeai as genai\n",
        "\n",
        "GOOGLE_API_KEY = \"SECRET_KEY\"\n",
        "genai.configure(api_key=GOOGLE_API_KEY)\n",
        "\n",
        "generation_config = {\n",
        "  \"temperature\": 0,\n",
        "  \"top_p\": 1,\n",
        "  \"top_k\": 0,\n",
        "  \"max_output_tokens\": 10000,\n",
        "}\n",
        "\n",
        "safety_settings = {\n",
        "    \"HARASSMENT\": \"BLOCK_ONLY_HIGH\",\n",
        "    \"HATE\": \"BLOCK_ONLY_HIGH\",\n",
        "    \"SEXUAL\": \"BLOCK_ONLY_HIGH\",\n",
        "    \"DANGEROUS\": \"BLOCK_ONLY_HIGH\"\n",
        "}\n",
        "\n",
        "\n",
        "model = genai.GenerativeModel(model_name=\"gemini-1.5-pro-latest\",\n",
        "                              generation_config=generation_config,\n",
        "                              safety_settings=safety_settings)\n",
        "\n",
        "chat = model.start_chat(history=[])\n",
        "\n",
        "print(\"Olá!\")\n",
        "print(\"Quer doar, mas não sabe onde?\")\n",
        "print(\"Informe seu endereço para descobrir os lugares que estão recebendo doações mais próximos de você!\")\n",
        "\n",
        "prompt = input(\"\\n\\nInforme seu endereço ou digite sair para sair:\")\n",
        "\n",
        "while prompt != \"sair\":\n",
        "  response = chat.send_message(\"Quais são as ONGs e seus respectivos endereços que estão recebendo doações mais próximos deste endereço: \\'\" + prompt + \"\\' ?\")\n",
        "  print(\"\\n\\n\" + response.text)\n",
        "  prompt = input(\"\\n\\nInforme seu endereço ou digite sair para sair:\")\n"
      ],
      "metadata": {
        "id": "rkBfeGrTHdjh"
      },
      "execution_count": null,
      "outputs": []
    },
    {
      "cell_type": "code",
      "source": [],
      "metadata": {
        "id": "6MGJTn4SLrV2"
      },
      "execution_count": null,
      "outputs": []
    }
  ]
}